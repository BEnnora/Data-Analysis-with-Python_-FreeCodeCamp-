{
 "cells": [
  {
   "cell_type": "markdown",
   "id": "2fe23c9f-648e-4448-aa9b-7f36301569fc",
   "metadata": {},
   "source": [
    "### Mean Variance Standard Deviation Calculator"
   ]
  },
  {
   "cell_type": "markdown",
   "id": "43702490-0d40-4895-973c-984d99264901",
   "metadata": {},
   "source": [
    "This project implements a calculator that computes the mean, variance, standard deviation, minimum, maximum, and sum for rows, columns, and elements of a 3×3 matrix. \n",
    "\n",
    "The project was developed as part of the **freeCodeCamp Data Analysis with Python** certification to practice working with **NumPy** for mathematical operations."
   ]
  },
  {
   "cell_type": "code",
   "execution_count": 2,
   "id": "436f4d35-6f19-42f5-b469-a63e83334bdb",
   "metadata": {},
   "outputs": [],
   "source": [
    "import numpy as np"
   ]
  },
  {
   "cell_type": "code",
   "execution_count": 4,
   "id": "0d915d86-2d32-4a9c-aa2e-602b4bb93feb",
   "metadata": {},
   "outputs": [],
   "source": [
    "def calculate(x):\n",
    "\n",
    "    if ((type(x)==list) & (len(x)==9)):\n",
    "        \n",
    "        B = np.array(x) # converting input into an numpy array\n",
    "        \n",
    "        C = np.vstack((B[0:3],B[3:6],B[6:])) # 3x3 matrix\n",
    "        \n",
    "        \n",
    "        calculations = {\n",
    "                'mean': [list(np.mean(C, axis=0)), list(np.mean(C, axis=1)), np.mean(C.flatten())],\n",
    "                'variance': [list(np.var(C, axis=0)), list(np.var(C, axis=1)), np.var(C.flatten())],\n",
    "                'standard deviation': [list(np.std(C, axis=0)), list(np.std(C, axis=1)), np.std(C.flatten())],\n",
    "                'max': [list(np.max(C, axis=0)), list(np.max(C, axis=1)), np.max(C.flatten())],\n",
    "                'min': [list(np.min(C, axis=0)), list(np.min(C, axis=1)), np.min(C.flatten())],\n",
    "                'sum': [list(np.sum(C, axis=0)), list(np.sum(C, axis=1)), np.sum(C.flatten())]\n",
    "                                                }\n",
    "\n",
    "        return calculations\n",
    "        \n",
    "    elif (len(x) < 9):\n",
    "        \n",
    "        raise ValueError('Value error: List must contain nine numbers.')"
   ]
  },
  {
   "cell_type": "code",
   "execution_count": 10,
   "id": "fb041dae-3454-4c52-a82b-77d73931adc5",
   "metadata": {},
   "outputs": [
    {
     "name": "stdout",
     "output_type": "stream",
     "text": [
      "{'mean': [[3.0, 4.0, 5.0], [1.0, 4.0, 7.0], 4.0], 'variance': [[6.0, 6.0, 6.0], [0.6666666666666666, 0.6666666666666666, 0.6666666666666666], 6.666666666666667], 'standard deviation': [[2.449489742783178, 2.449489742783178, 2.449489742783178], [0.816496580927726, 0.816496580927726, 0.816496580927726], 2.581988897471611], 'max': [[6, 7, 8], [2, 5, 8], 8], 'min': [[0, 1, 2], [0, 3, 6], 0], 'sum': [[9, 12, 15], [3, 12, 21], 36]}\n"
     ]
    }
   ],
   "source": [
    "# checking if it works as intended\n",
    "\n",
    "A = [0,1,2,3,4,5,6,7,8]\n",
    "print(calculate(A)) # check for correct input"
   ]
  },
  {
   "cell_type": "code",
   "execution_count": 9,
   "id": "956a13af-7c56-4a9a-8a9f-1b8593f1da10",
   "metadata": {},
   "outputs": [
    {
     "ename": "ValueError",
     "evalue": "Value error: List must contain nine numbers.",
     "output_type": "error",
     "traceback": [
      "\u001b[1;31m---------------------------------------------------------------------------\u001b[0m",
      "\u001b[1;31mValueError\u001b[0m                                Traceback (most recent call last)",
      "Cell \u001b[1;32mIn[9], line 1\u001b[0m\n\u001b[1;32m----> 1\u001b[0m \u001b[38;5;28mprint\u001b[39m(calculate(A[:\u001b[38;5;241m-\u001b[39m\u001b[38;5;241m1\u001b[39m]))\n",
      "Cell \u001b[1;32mIn[4], line 23\u001b[0m, in \u001b[0;36mcalculate\u001b[1;34m(x)\u001b[0m\n\u001b[0;32m     19\u001b[0m     \u001b[38;5;28;01mreturn\u001b[39;00m calculations\n\u001b[0;32m     21\u001b[0m \u001b[38;5;28;01melif\u001b[39;00m (\u001b[38;5;28mlen\u001b[39m(x) \u001b[38;5;241m<\u001b[39m \u001b[38;5;241m9\u001b[39m):\n\u001b[1;32m---> 23\u001b[0m     \u001b[38;5;28;01mraise\u001b[39;00m \u001b[38;5;167;01mValueError\u001b[39;00m(\u001b[38;5;124m'\u001b[39m\u001b[38;5;124mValue error: List must contain nine numbers.\u001b[39m\u001b[38;5;124m'\u001b[39m)\n",
      "\u001b[1;31mValueError\u001b[0m: Value error: List must contain nine numbers."
     ]
    }
   ],
   "source": [
    "print(calculate(A[:-1])) # check for list with less that 9 digits (should result in a Value Error)"
   ]
  },
  {
   "cell_type": "code",
   "execution_count": null,
   "id": "aada7c4d-10d0-4c8c-bf3c-97afdb38e774",
   "metadata": {},
   "outputs": [],
   "source": []
  }
 ],
 "metadata": {
  "kernelspec": {
   "display_name": "Python 3 (ipykernel)",
   "language": "python",
   "name": "python3"
  },
  "language_info": {
   "codemirror_mode": {
    "name": "ipython",
    "version": 3
   },
   "file_extension": ".py",
   "mimetype": "text/x-python",
   "name": "python",
   "nbconvert_exporter": "python",
   "pygments_lexer": "ipython3",
   "version": "3.12.7"
  }
 },
 "nbformat": 4,
 "nbformat_minor": 5
}
