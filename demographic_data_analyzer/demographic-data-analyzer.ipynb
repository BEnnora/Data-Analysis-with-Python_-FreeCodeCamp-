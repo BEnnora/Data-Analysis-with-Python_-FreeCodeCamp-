{
 "cells": [
  {
   "cell_type": "markdown",
   "id": "857effc7-5c1b-4580-adad-d987d6f6e323",
   "metadata": {},
   "source": [
    "# Demographic Data Analyzer"
   ]
  },
  {
   "cell_type": "markdown",
   "id": "c24a52bf-7c87-433f-9949-d4050888cdcb",
   "metadata": {},
   "source": [
    "This project analyzes demographic information using the UCI Adult (Census Income) dataset. It calculates summary statistics, compares education levels, and evaluates income levels across different groups.\n",
    "\n",
    "Key features include:\n",
    "- Counting race distribution\n",
    "- Calculating average age of men\n",
    "- Determining the percentage of individuals with Bachelor's degrees\n",
    "- Comparing income levels of people with and without higher education\n",
    "- Identifying minimum work hours and who earns >50K within that group\n",
    "- Finding the country with the highest percentage of high earners\n",
    "- Discovering the most common occupation for high earners in India\n",
    "\n",
    "Developed as part of the **freeCodeCamp Data Analysis with Python** certification.  \n",
    "Built using **Pandas** for data manipulation and analysis."
   ]
  },
  {
   "cell_type": "code",
   "execution_count": 1,
   "id": "ca8fe1af-cfb8-436e-8715-871f6e2f05d1",
   "metadata": {},
   "outputs": [],
   "source": [
    "import pandas as pd"
   ]
  },
  {
   "cell_type": "code",
   "execution_count": 2,
   "id": "73cde36a-6c42-4bd7-9861-5f4b61aded19",
   "metadata": {},
   "outputs": [],
   "source": [
    "def calculate_demographic_data(print_data=True):\n",
    "    # Read data from file\n",
    "    df = pd.read_csv('adult.data.csv')\n",
    "    # How many of each race are represented in this dataset? This should be a Pandas series with race names as the index labels.\n",
    "    race_count = df['race'].value_counts()\n",
    "    \n",
    "    # What is the average age of men?\n",
    "    m = df.loc[df['sex'] == 'Male']\n",
    "    average_age_men = round(m['age'].mean(), 1)\n",
    "    \n",
    "    # What is the percentage of people who have a Bachelor's degree?\n",
    "    b = len(df.loc[df['education'] == 'Bachelors']) # number of Bachelor's degrees\n",
    "    a = len(df) # number of all degrees\n",
    "    percentage_bachelors = round(b*100/a, 1) # percentage of Bachelor's degrees\n",
    "    \n",
    "    # What percentage of people with advanced education (`Bachelors`, `Masters`, or `Doctorate`) make more than 50K?\n",
    "    # What percentage of people without advanced education make more than 50K?\n",
    "\n",
    "    # with and without `Bachelors`, `Masters`, or `Doctorate`\n",
    "    bmd = df.loc[(df['education']=='Bachelors') | (df['education']=='Masters') | (df['education']=='Doctorate')] # df of Bachelor's, Masters and Doctorates\n",
    "    higher_education = len(bmd)\n",
    "    lower_education = len(df) - higher_education\n",
    "\n",
    "    # percentage with salary >50K\n",
    "    bmd5 = df.loc[((df['education']=='Bachelors') | (df['education']=='Masters') | (df['education']=='Doctorate')) & (df['salary'] == '>50K')] # df of Bachelor's, Masters and Doctorates with salary > 50K\n",
    "\n",
    "    No_bmd = df.loc[~(df['education']=='Bachelors') & ~(df['education']=='Masters') & ~(df['education']=='Doctorate')] # df of lower education\n",
    "    No_bmd5 = df.loc[(~(df['education']=='Bachelors') & ~(df['education']=='Masters') & ~(df['education']=='Doctorate')) & (df['salary'] == '>50K')] # df of lower education with salary > 50K\n",
    "\n",
    "    higher_education_rich =  round(len(bmd5)*100/higher_education, 1)\n",
    "    lower_education_rich =  round(len(No_bmd5)*100/lower_education, 1)\n",
    "    \n",
    "    # What is the minimum number of hours a person works per week (hours-per-week feature)?\n",
    "    min_work_hours = df['hours-per-week'].min()\n",
    "    \n",
    "    # What percentage of the people who work the minimum number of hours per week have a salary of >50K?\n",
    "    min_hours = df.loc[df['hours-per-week']==df['hours-per-week'].min()] # df of entries with minimum number of hours per week\n",
    "    min_hours5 = df.loc[(df['hours-per-week']==df['hours-per-week'].min()) & (df['salary'] == '>50K')] # df of entries with minimum number of hours per week and >50K salary\n",
    "\n",
    "    num_min_workers = len(min_hours)\n",
    "\n",
    "    rich_percentage = round(len(min_hours5)*100/num_min_workers, 1)\n",
    "    \n",
    "    # What country has the highest percentage of people that earn >50K?\n",
    "    A = pd.DataFrame(columns=['country','percentage']) # empty dataframe\n",
    "    A.set_index('country', inplace=True)\n",
    "    countries = df['native-country'].unique() # list of all countries\n",
    "\n",
    "    for con in countries:\n",
    "        g = df.loc[df['native-country']==con]\n",
    "        a = df.loc[(df['native-country']==con) & (df['salary'] == '>50K')]\n",
    "        percentage = len(a)*100/len(g)\n",
    "        A.loc[con] = percentage\n",
    "\n",
    "    highest_earning_country = A[A['percentage']==A['percentage'].max()].index.values[0]\n",
    "    highest_earning_country_percentage = round(A['percentage'].max(), 1)\n",
    "\n",
    "    # Identify the most popular occupation for those who earn >50K in India.\n",
    "    occupations_india = df.loc[(df['native-country']=='India') & (df['salary'] == '>50K')][['native-country','occupation']] # df of occupations with salary >50K in India\n",
    "    occupations_india.set_index('native-country', inplace=True) # native-country i.e. India is the index\n",
    "\n",
    "    top_IN_occupation = occupations_india.value_counts().idxmax()[0] # most popular occupation\n",
    "\n",
    "\n",
    "    # DO NOT MODIFY BELOW THIS LINE\n",
    "\n",
    "    if print_data:\n",
    "        print(\"Number of each race:\\n\", race_count) \n",
    "        print(\"Average age of men:\", average_age_men)\n",
    "        print(f\"Percentage with Bachelors degrees: {percentage_bachelors}%\")\n",
    "        print(f\"Percentage with higher education that earn >50K: {higher_education_rich}%\")\n",
    "        print(f\"Percentage without higher education that earn >50K: {lower_education_rich}%\")\n",
    "        print(f\"Min work time: {min_work_hours} hours/week\")\n",
    "        print(f\"Percentage of rich among those who work fewest hours: {rich_percentage}%\")\n",
    "        print(\"Country with highest percentage of rich:\", highest_earning_country)\n",
    "        print(f\"Highest percentage of rich people in country: {highest_earning_country_percentage}%\")\n",
    "        print(\"Top occupations in India:\", top_IN_occupation)\n",
    "\n",
    "    return {\n",
    "        'race_count': race_count,\n",
    "        'average_age_men': average_age_men,\n",
    "        'percentage_bachelors': percentage_bachelors,\n",
    "        'higher_education_rich': higher_education_rich,\n",
    "        'lower_education_rich': lower_education_rich,\n",
    "        'min_work_hours': min_work_hours,\n",
    "        'rich_percentage': rich_percentage,\n",
    "        'highest_earning_country': highest_earning_country,\n",
    "        'highest_earning_country_percentage':\n",
    "        highest_earning_country_percentage,\n",
    "        'top_IN_occupation': top_IN_occupation\n",
    "    }"
   ]
  },
  {
   "cell_type": "code",
   "execution_count": 4,
   "id": "f1691bce-ef21-4ce2-8de2-3111dbb43ff0",
   "metadata": {},
   "outputs": [
    {
     "name": "stdout",
     "output_type": "stream",
     "text": [
      "Number of each race:\n",
      " race\n",
      "White                 27816\n",
      "Black                  3124\n",
      "Asian-Pac-Islander     1039\n",
      "Amer-Indian-Eskimo      311\n",
      "Other                   271\n",
      "Name: count, dtype: int64\n",
      "Average age of men: 39.4\n",
      "Percentage with Bachelors degrees: 16.4%\n",
      "Percentage with higher education that earn >50K: 46.5%\n",
      "Percentage without higher education that earn >50K: 17.4%\n",
      "Min work time: 1 hours/week\n",
      "Percentage of rich among those who work fewest hours: 10.0%\n",
      "Country with highest percentage of rich: Iran\n",
      "Highest percentage of rich people in country: 41.9%\n",
      "Top occupations in India: Prof-specialty\n"
     ]
    },
    {
     "data": {
      "text/plain": [
       "{'race_count': race\n",
       " White                 27816\n",
       " Black                  3124\n",
       " Asian-Pac-Islander     1039\n",
       " Amer-Indian-Eskimo      311\n",
       " Other                   271\n",
       " Name: count, dtype: int64,\n",
       " 'average_age_men': 39.4,\n",
       " 'percentage_bachelors': 16.4,\n",
       " 'higher_education_rich': 46.5,\n",
       " 'lower_education_rich': 17.4,\n",
       " 'min_work_hours': 1,\n",
       " 'rich_percentage': 10.0,\n",
       " 'highest_earning_country': 'Iran',\n",
       " 'highest_earning_country_percentage': 41.9,\n",
       " 'top_IN_occupation': 'Prof-specialty'}"
      ]
     },
     "execution_count": 4,
     "metadata": {},
     "output_type": "execute_result"
    }
   ],
   "source": [
    "calculate_demographic_data() # run function"
   ]
  }
 ],
 "metadata": {
  "kernelspec": {
   "display_name": "Python 3 (ipykernel)",
   "language": "python",
   "name": "python3"
  },
  "language_info": {
   "codemirror_mode": {
    "name": "ipython",
    "version": 3
   },
   "file_extension": ".py",
   "mimetype": "text/x-python",
   "name": "python",
   "nbconvert_exporter": "python",
   "pygments_lexer": "ipython3",
   "version": "3.12.7"
  }
 },
 "nbformat": 4,
 "nbformat_minor": 5
}
